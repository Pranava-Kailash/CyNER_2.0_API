{
 "cells": [
  {
   "cell_type": "code",
   "execution_count": 1,
   "metadata": {},
   "outputs": [],
   "source": [
    "import requests\n",
    "from IPython.display import display, HTML\n",
    "import re"
   ]
  },
  {
   "cell_type": "code",
   "execution_count": 2,
   "metadata": {},
   "outputs": [],
   "source": [
    "url = 'http://127.0.0.1:8000/ner'"
   ]
  },
  {
   "cell_type": "code",
   "execution_count": 3,
   "metadata": {},
   "outputs": [],
   "source": [
    "headers = {\n",
    "    'Content-Type': 'application/json',\n",
    "    'accept': 'application/json'\n",
    "}"
   ]
  },
  {
   "cell_type": "code",
   "execution_count": null,
   "metadata": {},
   "outputs": [],
   "source": [
    "data = {\n",
    "    \"text\": \"For about a week now there have been repeated posts on the BleepingComputer and Malwarebytes forums regarding a BITSADMIN 3.0 command prompt that repeatedly opens on its own and downloads files\"\n",
    "}"
   ]
  },
  {
   "cell_type": "code",
   "execution_count": 5,
   "metadata": {},
   "outputs": [],
   "source": [
    "response = requests.post(url, headers=headers, json=data)\n",
    "json_response = response.json()"
   ]
  },
  {
   "cell_type": "code",
   "execution_count": 6,
   "metadata": {},
   "outputs": [],
   "source": [
    "label_color_map = {\n",
    "    'B-Date': '#FF6347',         \n",
    "    'B-Indicator': '#4682B4',     \n",
    "    'B-Location': '#32CD32',      \n",
    "    'B-Malware': '#8B0000',       \n",
    "    'B-Organization': '#8A2BE2',  \n",
    "    'B-System': '#FF69B4',        \n",
    "    'B-Threat_group': '#D2691E',  \n",
    "    'B-Vulnerability': '#1E90FF', \n",
    "    'I-Date': '#FF7F50',          \n",
    "    'I-Indicator': '#5F9EA0',     \n",
    "    'I-Location': '#3CB371',      \n",
    "    'I-Malware': '#DAA520',       \n",
    "    'I-Organization': '#9400D3',  \n",
    "    'I-System': '#FF1493',        \n",
    "    'I-Threat_group': '#CD853F',  \n",
    "    'I-Vulnerability': '#87CEFA', \n",
    "}"
   ]
  },
  {
   "cell_type": "code",
   "execution_count": 7,
   "metadata": {},
   "outputs": [],
   "source": [
    "def tag_to_html(tagged_sentence, entity_colors):\n",
    "\n",
    "    pattern = re.compile(r'<B-([A-Za-z0-9_]+)>(.*?)<\\/B-\\1>', re.DOTALL)\n",
    "    \n",
    "    def replacer(match):\n",
    "        entity = match.group(1)\n",
    "        content = match.group(2)\n",
    "        color = entity_colors.get(f'B-{entity}', '#FFFF99') \n",
    "        return f'<span style=\"background-color:{color}; padding:2px; border-radius:3px;\">{content}</span>'\n",
    "    \n",
    "    html_sentence = pattern.sub(replacer, tagged_sentence)\n",
    "    \n",
    "    return html_sentence"
   ]
  },
  {
   "cell_type": "code",
   "execution_count": 8,
   "metadata": {},
   "outputs": [],
   "source": [
    "def create_legend(entity_colors):\n",
    "    legend_html = '<div style=\"margin-top: 20px;\"><strong>Legend:</strong><br>'\n",
    "    for entity, color in entity_colors.items():\n",
    "        legend_html += f'<div style=\"display:inline-block; margin: 4px 8px;\"><span style=\"background-color:{color}; padding:4px 8px; border-radius:1px;\">{entity}</span></div><br>'\n",
    "    legend_html += '</div>'\n",
    "    return legend_html"
   ]
  },
  {
   "cell_type": "code",
   "execution_count": 9,
   "metadata": {},
   "outputs": [],
   "source": [
    "html_output = tag_to_html(json_response['tagged_sentence'], label_color_map)\n",
    "legend_html = create_legend(label_color_map)"
   ]
  },
  {
   "cell_type": "code",
   "execution_count": 10,
   "metadata": {},
   "outputs": [
    {
     "data": {
      "text/html": [
       "For about<span style=\"background-color:#FF6347; padding:2px; border-radius:3px;\"> a</span><span style=\"background-color:#FF6347; padding:2px; border-radius:3px;\"> week</span> now there have been repeated posts on the<span style=\"background-color:#8A2BE2; padding:2px; border-radius:3px;\"> BleepingComputer</span> and<span style=\"background-color:#8A2BE2; padding:2px; border-radius:3px;\"> Malwarebytes</span><span style=\"background-color:#8A2BE2; padding:2px; border-radius:3px;\"> forums</span> regarding a<span style=\"background-color:#8B0000; padding:2px; border-radius:3px;\"> BIT</span><span style=\"background-color:#8B0000; padding:2px; border-radius:3px;\">SADMIN 3.0</span><span style=\"background-color:#4682B4; padding:2px; border-radius:3px;\"> command prompt</span> that repeatedly opens on its own and<span style=\"background-color:#4682B4; padding:2px; border-radius:3px;\"> downloads</span><span style=\"background-color:#4682B4; padding:2px; border-radius:3px;\"> files</span><div style=\"margin-top: 20px;\"><strong>Legend:</strong><br><div style=\"display:inline-block; margin: 4px 8px;\"><span style=\"background-color:#FF6347; padding:4px 8px; border-radius:1px;\">B-Date</span></div><br><div style=\"display:inline-block; margin: 4px 8px;\"><span style=\"background-color:#4682B4; padding:4px 8px; border-radius:1px;\">B-Indicator</span></div><br><div style=\"display:inline-block; margin: 4px 8px;\"><span style=\"background-color:#32CD32; padding:4px 8px; border-radius:1px;\">B-Location</span></div><br><div style=\"display:inline-block; margin: 4px 8px;\"><span style=\"background-color:#8B0000; padding:4px 8px; border-radius:1px;\">B-Malware</span></div><br><div style=\"display:inline-block; margin: 4px 8px;\"><span style=\"background-color:#8A2BE2; padding:4px 8px; border-radius:1px;\">B-Organization</span></div><br><div style=\"display:inline-block; margin: 4px 8px;\"><span style=\"background-color:#FF69B4; padding:4px 8px; border-radius:1px;\">B-System</span></div><br><div style=\"display:inline-block; margin: 4px 8px;\"><span style=\"background-color:#D2691E; padding:4px 8px; border-radius:1px;\">B-Threat_group</span></div><br><div style=\"display:inline-block; margin: 4px 8px;\"><span style=\"background-color:#1E90FF; padding:4px 8px; border-radius:1px;\">B-Vulnerability</span></div><br><div style=\"display:inline-block; margin: 4px 8px;\"><span style=\"background-color:#FF7F50; padding:4px 8px; border-radius:1px;\">I-Date</span></div><br><div style=\"display:inline-block; margin: 4px 8px;\"><span style=\"background-color:#5F9EA0; padding:4px 8px; border-radius:1px;\">I-Indicator</span></div><br><div style=\"display:inline-block; margin: 4px 8px;\"><span style=\"background-color:#3CB371; padding:4px 8px; border-radius:1px;\">I-Location</span></div><br><div style=\"display:inline-block; margin: 4px 8px;\"><span style=\"background-color:#DAA520; padding:4px 8px; border-radius:1px;\">I-Malware</span></div><br><div style=\"display:inline-block; margin: 4px 8px;\"><span style=\"background-color:#9400D3; padding:4px 8px; border-radius:1px;\">I-Organization</span></div><br><div style=\"display:inline-block; margin: 4px 8px;\"><span style=\"background-color:#FF1493; padding:4px 8px; border-radius:1px;\">I-System</span></div><br><div style=\"display:inline-block; margin: 4px 8px;\"><span style=\"background-color:#CD853F; padding:4px 8px; border-radius:1px;\">I-Threat_group</span></div><br><div style=\"display:inline-block; margin: 4px 8px;\"><span style=\"background-color:#87CEFA; padding:4px 8px; border-radius:1px;\">I-Vulnerability</span></div><br></div>"
      ],
      "text/plain": [
       "<IPython.core.display.HTML object>"
      ]
     },
     "metadata": {},
     "output_type": "display_data"
    }
   ],
   "source": [
    "display(HTML(html_output+legend_html))"
   ]
  }
 ],
 "metadata": {
  "kernelspec": {
   "display_name": ".venv",
   "language": "python",
   "name": "python3"
  },
  "language_info": {
   "codemirror_mode": {
    "name": "ipython",
    "version": 3
   },
   "file_extension": ".py",
   "mimetype": "text/x-python",
   "name": "python",
   "nbconvert_exporter": "python",
   "pygments_lexer": "ipython3",
   "version": "3.10.11"
  }
 },
 "nbformat": 4,
 "nbformat_minor": 2
}
